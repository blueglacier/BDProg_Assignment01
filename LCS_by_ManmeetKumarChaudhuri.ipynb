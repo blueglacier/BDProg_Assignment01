{
 "cells": [
  {
   "cell_type": "code",
   "execution_count": null,
   "metadata": {},
   "outputs": [],
   "source": [
    "def lcs(S1, S2):\n",
    "    m = len(S1)\n",
    "    n = len(S2) \n",
    "    L = [[0 for x in range(n+1)] for x in range(m+1)] \n",
    "  \n",
    "    # Building L[m+1][n+1] in bottom up way. Note \n",
    "    for i in range(m+1): \n",
    "        for j in range(n+1): \n",
    "            if i == 0 or j == 0: \n",
    "                L[i][j] = 0\n",
    "            elif S1[i-1] == S2[j-1]: \n",
    "                L[i][j] = L[i-1][j-1] + 1\n",
    "            else: \n",
    "                L[i][j] = max(L[i-1][j], L[i][j-1]) \n",
    "  \n",
    "    # Following code is used to print LCS \n",
    "    index = L[m][n] \n",
    "  \n",
    "    # Create a character array to store the lcs string \n",
    "    lcs = [\"\"] * (index+1) \n",
    "    lcs[index] = \"\" \n",
    "  \n",
    "    # Start from the right-most-bottom-most corner and \n",
    "    # one by one store characters in lcs[] \n",
    "    i = m \n",
    "    j = n \n",
    "    while i > 0 and j > 0: \n",
    "  \n",
    "        # If current character in S1 and S2 are same, then \n",
    "        # current character is part of LCS \n",
    "        if S1[i-1] == S2[j-1]: \n",
    "            lcs[index-1] = S1[i-1] \n",
    "            i-=1\n",
    "            j-=1\n",
    "            index-=1\n",
    "  \n",
    "        # If not same, then find the larger of two and \n",
    "        # go in the direction of larger value \n",
    "        elif L[i-1][j] > L[i][j-1]: \n",
    "            i-=1\n",
    "        else: \n",
    "            j-=1\n",
    "  \n",
    "    print(\"LCS of \" + S1 + \" and \" + S2 + \" is \" + \"\".join(lcs))"
   ]
  }
 ],
 "metadata": {
  "kernelspec": {
   "display_name": "Python 3",
   "language": "python",
   "name": "python3"
  },
  "language_info": {
   "codemirror_mode": {
    "name": "ipython",
    "version": 3
   },
   "file_extension": ".py",
   "mimetype": "text/x-python",
   "name": "python",
   "nbconvert_exporter": "python",
   "pygments_lexer": "ipython3",
   "version": "3.6.5"
  }
 },
 "nbformat": 4,
 "nbformat_minor": 2
}
