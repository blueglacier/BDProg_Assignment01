{
 "cells": [
  {
   "cell_type": "code",
   "execution_count": 1,
   "metadata": {},
   "outputs": [],
   "source": [
    "def isMatch(S1, S2):\n",
    "        dp = [[False] * (len(S2) + 1) for _ in range(len(S1) + 1)]\n",
    "\n",
    "        dp[-1][-1] = True\n",
    "        for i in range(len(S1), -1, -1):\n",
    "            for j in range(len(S2) - 1, -1, -1):\n",
    "                first_match = i < len(S1) and S2[j] in {S1[i], '.'}\n",
    "                if j+1 < len(S2) and S2[j+1] == '*':\n",
    "                    dp[i][j] = dp[i][j+2] or first_match and dp[i+1][j]\n",
    "                else:\n",
    "                    dp[i][j] = first_match and dp[i+1][j+1]\n",
    "\n",
    "        return dp[0][0]"
   ]
  }
 ],
 "metadata": {
  "kernelspec": {
   "display_name": "Python 3",
   "language": "python",
   "name": "python3"
  },
  "language_info": {
   "codemirror_mode": {
    "name": "ipython",
    "version": 3
   },
   "file_extension": ".py",
   "mimetype": "text/x-python",
   "name": "python",
   "nbconvert_exporter": "python",
   "pygments_lexer": "ipython3",
   "version": "3.6.5"
  }
 },
 "nbformat": 4,
 "nbformat_minor": 2
}
